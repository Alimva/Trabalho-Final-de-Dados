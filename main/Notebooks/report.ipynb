{
 "cells": [
  {
   "cell_type": "markdown",
   "metadata": {},
   "source": [
    "## Analise do consumo por continente\n"
   ]
  },
  {
   "cell_type": "code",
   "execution_count": 1,
   "metadata": {},
   "outputs": [
    {
     "ename": "NameError",
     "evalue": "name 'plot_hist' is not defined",
     "output_type": "error",
     "traceback": [
      "\u001b[0;31m---------------------------------------------------------------------------\u001b[0m",
      "\u001b[0;31mNameError\u001b[0m                                 Traceback (most recent call last)",
      "\u001b[0;32m/tmp/ipykernel_25327/375243090.py\u001b[0m in \u001b[0;36m<module>\u001b[0;34m\u001b[0m\n\u001b[0;32m----> 1\u001b[0;31m \u001b[0mplot_hist\u001b[0m\u001b[0;34m(\u001b[0m\u001b[0;34m'pap'\u001b[0m\u001b[0;34m)\u001b[0m\u001b[0;34m\u001b[0m\u001b[0;34m\u001b[0m\u001b[0m\n\u001b[0m",
      "\u001b[0;31mNameError\u001b[0m: name 'plot_hist' is not defined"
     ]
    }
   ],
   "source": []
  },
  {
   "cell_type": "markdown",
   "metadata": {},
   "source": [
    "# Análise dos 20 países com maior consumo\n"
   ]
  },
  {
   "cell_type": "markdown",
   "metadata": {},
   "source": [
    "Na aplicação de Machine Learning nos dados de Energia Hidrálica, primeiro transformamos os dados em np.array, posteriormente escalonamos os dados e assim padronizamos as variáveis na mesma escala.\n",
    "\n",
    "Deste modo, aplicamos a técnica wcss que é o método para definir o número de clusters.\n",
    "\n",
    "Então, podemos perceber que, aproximadamente, na escala com um cluster tivemos 40.00; com dois tivemos 8.09; e com três 1.58. \n",
    "O que pôde ser melhor visualizado em um gráfico de linha, ferramenta que serviu para a decisão de que os dados seriam dividos em quatro clusters, \n",
    "já que não houve muito declínio na escala quando passamos de quatro para cinco clusters e assim, se fizermos com mais clusters a queda não seria muito significativa.\n",
    "\n",
    "Portanto, criamos o algoritmo final, para de fato fazer o agrupamento, onde aplicamos a função fit_predict que serviu para fazer os treinamento e obter os resultados com os valores dos clusters para cada registro.\n",
    "\n",
    "No gráfico gerado podemos perceber:\n",
    "\n",
    "- Os países em azul são aqueles que não geram quase nada de energia hidráulica e quase nada de energia renovável em geral.\n",
    "\n",
    "- Os países em amarelo são os países medianos, que geram uma quantidade significativa de energia hidráulica e também energia renovável em geral\n",
    "\n",
    "- O país em lilás é o país que gera muita energia hidraulica e também gera muita energia renovável em geral (O caso da China).\n",
    "\n",
    "Por fim, para mais informações foi feita a lista dos paises por cluster, e foram ordenamos do cluster zero ao 2.\n",
    "\n",
    "\n",
    "___________________________________________________________________________________________________________________________________________________________________________________________________________________________\n",
    "\n",
    "O mesmo foi feito com os dados de Energia por Biocombustível, porém, foi decidido através da análise wcss que esses dados poderiam ser dividos melhor em quatro clusters,\n",
    "uma vez que os Estados Unidos produz quase a mesma quantidade de Energia por biocombustível do que China, porém, produz bem menos Energia Renovável em geral.\n",
    "\n",
    "____________________________________________________________________________________________________________________________________________________________________________________________________________________________\n",
    "\n",
    "A utilidade da análise desses dados se dar, por conseguir ajudar empresas que trabalham com esses tipos de Energia Renovável, a escolher em qual país investir seus respectivos serviços.\n"
   ]
  },
  {
   "cell_type": "markdown",
   "metadata": {},
   "source": [
    "# Análise da previsão por machine learning (Luciene)"
   ]
  },
  {
   "cell_type": "markdown",
   "metadata": {},
   "source": [
    "Na aplicação de Machine Learning nos dados de Energia Hidrálica, primeiro transformamos os dados em np.array, posteriormente escalonamos os dados e assim padronizamos as variáveis na mesma escala.\n",
    "\n",
    "Deste modo, aplicamos a técnica wcss que é o método para definir o número de clusters.\n",
    "\n",
    "Então, podemos perceber que, aproximadamente, na escala com um cluster tivemos 40.00; com dois tivemos 8.09; e com três 1.58. \n",
    "O que pôde ser melhor visualizado em um gráfico de linha, ferramenta que serviu para a decisão de que os dados seriam dividos em quatro clusters, \n",
    "já que não houve muito declínio na escala quando passamos de quatro para cinco clusters e assim, se fizermos com mais clusters a queda não seria muito significativa.\n",
    "\n",
    "Portanto, criamos o algoritmo final, para de fato fazer o agrupamento, onde aplicamos a função fit_predict que serviu para fazer os treinamento e obter os resultados com os valores dos clusters para cada registro.\n",
    "\n",
    "No gráfico gerado podemos perceber:\n",
    "\n",
    "- Os países em azul são aqueles que não geram quase nada de energia hidráulica e quase nada de energia renovável em geral.\n",
    "\n",
    "- Os países em amarelo são os países medianos, que geram uma quantidade significativa de energia hidráulica e também energia renovável em geral\n",
    "\n",
    "- O país em lilás é o país que gera muita energia hidraulica e também gera muita energia renovável em geral (O caso da China).\n",
    "\n",
    "Por fim, para mais informações foi feita a lista dos paises por cluster, e foram ordenamos do cluster zero ao 2.\n",
    "\n",
    "\n",
    "___________________________________________________________________________________________________________________________________________________________________________________________________________________________\n",
    "\n",
    "O mesmo foi feito com os dados de Energia por Biocombustível, porém, foi decidido através da análise wcss que esses dados poderiam ser dividos melhor em quatro clusters,\n",
    "uma vez que os Estados Unidos produz quase a mesma quantidade de Energia por biocombustível do que China, porém, produz bem menos Energia Renovável em geral.\n",
    "\n",
    "____________________________________________________________________________________________________________________________________________________________________________________________________________________________\n",
    "\n",
    "A utilidade da análise desses dados se dar, por conseguir ajudar empresas que trabalham com esses tipos de Energia Renovável, a escolher em qual país investir seus respectivos serviços.\n"
   ]
  }
 ],
 "metadata": {
  "kernelspec": {
   "display_name": "Python 3.10.6 64-bit",
   "language": "python",
   "name": "python3"
  },
  "language_info": {
   "codemirror_mode": {
    "name": "ipython",
    "version": 3
   },
   "file_extension": ".py",
   "mimetype": "text/x-python",
   "name": "python",
   "nbconvert_exporter": "python",
   "pygments_lexer": "ipython3",
   "version": "3.10.6"
  },
  "orig_nbformat": 4,
  "vscode": {
   "interpreter": {
    "hash": "916dbcbb3f70747c44a77c7bcd40155683ae19c65e1c03b4aa3499c5328201f1"
   }
  }
 },
 "nbformat": 4,
 "nbformat_minor": 2
}
